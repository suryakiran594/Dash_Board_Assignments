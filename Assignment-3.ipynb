{
 "cells": [
  {
   "cell_type": "raw",
   "id": "a277b476",
   "metadata": {},
   "source": [
    "1.\tWhy are functions advantageous to have in your programs?"
   ]
  },
  {
   "cell_type": "raw",
   "id": "2bf73171",
   "metadata": {},
   "source": [
    "       Ans :- Reusability, Modularity, Abstraction, Code Organisation and readability,\n",
    "                    Testing &    Debugging.\n",
    "\n",
    "Reusability:- Functions allows you to write a block of code that can be used multiple times throughout your program. You can encapsulate it in a function and call the function whenever needed.\n",
    "Modularity:- Function helps in breaking down a complex program into smaller manageable modules. Each function can perform specific task, making the code more organized and easier to understand.\n",
    "Abstraction:-  Abstraction level enhances the code clarity and simplifies overall programming.\n",
    "Testing & Debugging:  By isolating  few blocks from the regular program, we can test the reliability and correctness.\n",
    "Code Organisation and readability: Function improves the code organised by grouping related code together thus achieving the better readability of code.\n",
    "\n",
    "\n"
   ]
  },
  {
   "cell_type": "raw",
   "id": "c36ebbf4",
   "metadata": {},
   "source": [
    "2.\tWhen does the code in a function run: when it's specified or when it's called?"
   ]
  },
  {
   "cell_type": "raw",
   "id": "428408ad",
   "metadata": {},
   "source": [
    " Ans: Code written in function run when it is being called."
   ]
  },
  {
   "cell_type": "raw",
   "id": "abd41ee2",
   "metadata": {},
   "source": [
    "3.\tWhat statement creates a function?"
   ]
  },
  {
   "cell_type": "raw",
   "id": "ffbc957e",
   "metadata": {},
   "source": [
    "Ans:- ‘def’ statement is used to create a function. The Syntax for defining a function is as follows:\n",
    "def fun_name(parameters):\n",
    "#function block\n",
    "#code block\n"
   ]
  },
  {
   "cell_type": "raw",
   "id": "e6c037a3",
   "metadata": {},
   "source": [
    "4.\tWhat is the difference between a function and a function call?"
   ]
  },
  {
   "cell_type": "raw",
   "id": "1759f00b",
   "metadata": {},
   "source": [
    "Ans:- Function defines a block of code which is ready for execution of a specific task and when function call occurs then the execution of that particular function will start by giving appropriate results.\n",
    "In other words, function is a blue print and function call is a real execution. \n"
   ]
  },
  {
   "cell_type": "raw",
   "id": "35acb359",
   "metadata": {},
   "source": [
    "5.\tHow many global scopes are there in a Python program? How many local scopes?"
   ]
  },
  {
   "cell_type": "raw",
   "id": "a9b9b24a",
   "metadata": {},
   "source": [
    "Ans:- In Python programming there can be one global scope and multiple local scopes.\n",
    "Global Scope: The global scope refers to the outermost level of the program, where variables, functions and classes can be defined. Any variable or object defined in the global scope is accessible throughout the program.\n",
    "Local Scope: are created when functions are executed. The scope is limited within given function or loop so it has limited lifespan.\n"
   ]
  },
  {
   "cell_type": "raw",
   "id": "04ccfeae",
   "metadata": {},
   "source": [
    "6.\tWhat happens to variables in a local scope when the function call returns?"
   ]
  },
  {
   "cell_type": "raw",
   "id": "4d60ab4c",
   "metadata": {},
   "source": [
    "Ans:  When the function call returns in Python, the local variables within the local scope cease to exist."
   ]
  },
  {
   "cell_type": "code",
   "execution_count": 14,
   "id": "67786909",
   "metadata": {},
   "outputs": [
    {
     "name": "stdout",
     "output_type": "stream",
     "text": [
      "30\n"
     ]
    },
    {
     "ename": "NameError",
     "evalue": "name 'x' is not defined",
     "output_type": "error",
     "traceback": [
      "\u001b[1;31m---------------------------------------------------------------------------\u001b[0m",
      "\u001b[1;31mNameError\u001b[0m                                 Traceback (most recent call last)",
      "\u001b[1;32m~\\AppData\\Local\\Temp\\ipykernel_2320\\829669792.py\u001b[0m in \u001b[0;36m<module>\u001b[1;34m\u001b[0m\n\u001b[0;32m      8\u001b[0m \u001b[0msum_result\u001b[0m\u001b[1;33m=\u001b[0m\u001b[0mmy_function\u001b[0m\u001b[1;33m(\u001b[0m\u001b[1;33m)\u001b[0m\u001b[1;33m\u001b[0m\u001b[1;33m\u001b[0m\u001b[0m\n\u001b[0;32m      9\u001b[0m \u001b[0mprint\u001b[0m\u001b[1;33m(\u001b[0m\u001b[0msum_result\u001b[0m\u001b[1;33m)\u001b[0m\u001b[1;33m\u001b[0m\u001b[1;33m\u001b[0m\u001b[0m\n\u001b[1;32m---> 10\u001b[1;33m \u001b[0mprint\u001b[0m\u001b[1;33m(\u001b[0m\u001b[0mx\u001b[0m\u001b[1;33m)\u001b[0m\u001b[1;33m\u001b[0m\u001b[1;33m\u001b[0m\u001b[0m\n\u001b[0m\u001b[0;32m     11\u001b[0m \u001b[1;31m# After the function call local variables (x,y,result) are no longer accessible\u001b[0m\u001b[1;33m\u001b[0m\u001b[1;33m\u001b[0m\u001b[0m\n",
      "\u001b[1;31mNameError\u001b[0m: name 'x' is not defined"
     ]
    }
   ],
   "source": [
    "def my_function():\n",
    "    x=10\n",
    "    y=20\n",
    "    result=x+y\n",
    "    return result\n",
    "\n",
    "# function call\n",
    "sum_result=my_function()\n",
    "print(sum_result)\n",
    "print(x)   # here x variable is not available for printing hence throws error.\n",
    "# After the function call local variables (x,y,result) are no longer accessible\n"
   ]
  },
  {
   "cell_type": "raw",
   "id": "c9d1697a",
   "metadata": {},
   "source": [
    "7.\tWhat is the concept of a return value? Is it possible to have a return value in an expression?"
   ]
  },
  {
   "cell_type": "raw",
   "id": "5fe76d02",
   "metadata": {},
   "source": [
    "Ans:-  The concept of the return value in a programming refers to the value that a function can optionally send back to the code that called it. The return value can be of any datatype such as numbers, strings, list, dictionaries, or even custom objects. \n",
    "\n"
   ]
  },
  {
   "cell_type": "raw",
   "id": "99632ea4",
   "metadata": {},
   "source": [
    "8.\tIf a function does not have a return statement, what is the return value of a call to that function?"
   ]
  },
  {
   "cell_type": "raw",
   "id": "b5258007",
   "metadata": {},
   "source": [
    "If a function does not have a return statement, or if the return statement is omitted, the function will automatically return a special value called None."
   ]
  },
  {
   "cell_type": "code",
   "execution_count": 15,
   "id": "294b8ad1",
   "metadata": {},
   "outputs": [
    {
     "name": "stdout",
     "output_type": "stream",
     "text": [
      "Hello, Surya\n",
      "None\n"
     ]
    }
   ],
   "source": [
    "def name(name):\n",
    "    print(f'Hello, {name}')\n",
    "\n",
    "result = name ('Surya')\n",
    "print(result)  # Output: None\n"
   ]
  },
  {
   "cell_type": "raw",
   "id": "14c1352f",
   "metadata": {},
   "source": [
    "9. How do you make a function variable refer to the global variable?"
   ]
  },
  {
   "cell_type": "raw",
   "id": "60094a0b",
   "metadata": {},
   "source": [
    "In Python if we want a function variable to refer as global variable, we can use global key word. it allows us to indicate\n",
    "that a variable inside the function should refer to the global variable with the same name"
   ]
  },
  {
   "cell_type": "code",
   "execution_count": 21,
   "id": "5dc11d71",
   "metadata": {},
   "outputs": [
    {
     "name": "stdout",
     "output_type": "stream",
     "text": [
      "Global Variable:10\n",
      "Local variable:15\n"
     ]
    }
   ],
   "source": [
    "x = 10  # Global variable\n",
    "\n",
    "def  global_var():\n",
    "    global x  # Declare 'x' as global within the function\n",
    "    x += 5   # Modify the global 'x' variable\n",
    "\n",
    "print(f'Global Variable:{x}')  # Output: 10\n",
    "global_var()\n",
    "print(f'Local variable:{x}')  # Output: 15\n"
   ]
  },
  {
   "cell_type": "raw",
   "id": "4a1b3fb1",
   "metadata": {},
   "source": [
    "10. What is the data type of None?"
   ]
  },
  {
   "cell_type": "code",
   "execution_count": 22,
   "id": "8d92736a",
   "metadata": {},
   "outputs": [
    {
     "data": {
      "text/plain": [
       "NoneType"
      ]
     },
     "execution_count": 22,
     "metadata": {},
     "output_type": "execute_result"
    }
   ],
   "source": [
    "type(None)"
   ]
  },
  {
   "cell_type": "raw",
   "id": "67cc62d2",
   "metadata": {},
   "source": [
    "type of None is NoneType"
   ]
  },
  {
   "cell_type": "raw",
   "id": "f90c8c9f",
   "metadata": {},
   "source": [
    "11. What does the sentence import areallyourpetsnamederic do?"
   ]
  },
  {
   "cell_type": "raw",
   "id": "55c63233",
   "metadata": {},
   "source": [
    "it would result in a ModuleNotFoundError.\n",
    "\n"
   ]
  },
  {
   "cell_type": "raw",
   "id": "0a5d4323",
   "metadata": {},
   "source": [
    "12. If you had a bacon() feature in a spam module, what would you call it after importing spam?"
   ]
  },
  {
   "cell_type": "raw",
   "id": "21e94470",
   "metadata": {},
   "source": [
    "import spam()\n",
    "\n",
    "spam.bacon()"
   ]
  },
  {
   "cell_type": "raw",
   "id": "7461c111",
   "metadata": {},
   "source": [
    "13. What can you do to save a programme from crashing if it encounters an error?"
   ]
  },
  {
   "cell_type": "raw",
   "id": "f908e009",
   "metadata": {},
   "source": [
    "To prevent a programme from crashing we can use error handling techniques such as exceptional handling.\n",
    "\n",
    "in Python, we can use a combination of try, except,else,finally blocks to implement exception handling.\n",
    "\n",
    "Try: code that may raise an error\n",
    "except: code to handle specific exceptional type\n",
    "\n",
    "else: code to execute if no exception occurred\n",
    "finally: Code that always executes, regardless of whether an exception occurred or not\n"
   ]
  },
  {
   "cell_type": "code",
   "execution_count": 23,
   "id": "3ba6e0f8",
   "metadata": {},
   "outputs": [
    {
     "name": "stdout",
     "output_type": "stream",
     "text": [
      "Error: Division by zero is not allowed.\n"
     ]
    }
   ],
   "source": [
    "try:\n",
    "    result = 10 / 0  # Attempting to divide by zero\n",
    "except ZeroDivisionError:\n",
    "    print(\"Error: Division by zero is not allowed.\")\n"
   ]
  },
  {
   "cell_type": "raw",
   "id": "b5588009",
   "metadata": {},
   "source": [
    "with the above program, instead of crashing the except block will print an error : Division by zero is not allowed"
   ]
  },
  {
   "cell_type": "raw",
   "id": "5c10fc89",
   "metadata": {},
   "source": [
    "14. What is the purpose of the try clause? What is the purpose of the except clause?"
   ]
  },
  {
   "cell_type": "raw",
   "id": "e55fe835",
   "metadata": {},
   "source": [
    "Try: code that may raise an error\n",
    "except: code to handle specific exceptional type\n",
    "\n"
   ]
  }
 ],
 "metadata": {
  "kernelspec": {
   "display_name": "Python 3 (ipykernel)",
   "language": "python",
   "name": "python3"
  },
  "language_info": {
   "codemirror_mode": {
    "name": "ipython",
    "version": 3
   },
   "file_extension": ".py",
   "mimetype": "text/x-python",
   "name": "python",
   "nbconvert_exporter": "python",
   "pygments_lexer": "ipython3",
   "version": "3.9.13"
  }
 },
 "nbformat": 4,
 "nbformat_minor": 5
}
