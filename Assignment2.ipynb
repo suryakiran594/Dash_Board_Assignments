{
 "cells": [
  {
   "cell_type": "markdown",
   "id": "3ea15f36",
   "metadata": {},
   "source": [
    "1.What are the two values of the Boolean data type? How do you write them?"
   ]
  },
  {
   "cell_type": "markdown",
   "id": "fd95c612",
   "metadata": {},
   "source": [
    "Boolean datatype will return either True or False"
   ]
  },
  {
   "cell_type": "code",
   "execution_count": 4,
   "id": "6194f368",
   "metadata": {},
   "outputs": [
    {
     "name": "stdout",
     "output_type": "stream",
     "text": [
      "False\n"
     ]
    }
   ],
   "source": [
    "a=10\n",
    "b=20\n",
    "print(bool(a>b))"
   ]
  },
  {
   "cell_type": "code",
   "execution_count": 5,
   "id": "a7ea1329",
   "metadata": {},
   "outputs": [
    {
     "data": {
      "text/plain": [
       "True"
      ]
     },
     "execution_count": 5,
     "metadata": {},
     "output_type": "execute_result"
    }
   ],
   "source": [
    "bool(a)"
   ]
  },
  {
   "cell_type": "code",
   "execution_count": 6,
   "id": "9f5e6da2",
   "metadata": {},
   "outputs": [
    {
     "data": {
      "text/plain": [
       "True"
      ]
     },
     "execution_count": 6,
     "metadata": {},
     "output_type": "execute_result"
    }
   ],
   "source": [
    "bool(b)"
   ]
  },
  {
   "cell_type": "markdown",
   "id": "d027c56c",
   "metadata": {},
   "source": [
    "2. What are the three different types of Boolean operators?"
   ]
  },
  {
   "cell_type": "markdown",
   "id": "7a96a899",
   "metadata": {},
   "source": [
    "AND, OR & NOT are three Boolean operators availabe in python\n"
   ]
  },
  {
   "cell_type": "code",
   "execution_count": 7,
   "id": "eae5a7f1",
   "metadata": {},
   "outputs": [
    {
     "data": {
      "text/plain": [
       "False"
      ]
     },
     "execution_count": 7,
     "metadata": {},
     "output_type": "execute_result"
    }
   ],
   "source": [
    "a=10\n",
    "b=20\n",
    "#comparing a and b with a boolean operator 'and'. since a==b give 0 and a!=b give 1, according to the AND truth table the \n",
    "#result is zero i.e, False\n",
    "(a==b) and (a!=b)"
   ]
  },
  {
   "cell_type": "code",
   "execution_count": 8,
   "id": "d98e7ba8",
   "metadata": {},
   "outputs": [
    {
     "data": {
      "text/plain": [
       "True"
      ]
     },
     "execution_count": 8,
     "metadata": {},
     "output_type": "execute_result"
    }
   ],
   "source": [
    "c=35\n",
    "d=40\n",
    "#similarly a!=b is true and c!=d is true so the result is true\n",
    "(a!=b) and (c!=d)"
   ]
  },
  {
   "cell_type": "markdown",
   "id": "7c27d24c",
   "metadata": {},
   "source": [
    "3. Make a list of each Boolean operator's truth tables (i.e. every possible combination of Boolean values for the operator and what it evaluate )."
   ]
  },
  {
   "cell_type": "code",
   "execution_count": 9,
   "id": "cd3ce7f8",
   "metadata": {},
   "outputs": [
    {
     "data": {
      "text/plain": [
       "False"
      ]
     },
     "execution_count": 9,
     "metadata": {},
     "output_type": "execute_result"
    }
   ],
   "source": [
    "a==b and b==a"
   ]
  },
  {
   "cell_type": "code",
   "execution_count": 10,
   "id": "03828b01",
   "metadata": {},
   "outputs": [
    {
     "data": {
      "text/plain": [
       "False"
      ]
     },
     "execution_count": 10,
     "metadata": {},
     "output_type": "execute_result"
    }
   ],
   "source": [
    "a==b and a!=b"
   ]
  },
  {
   "cell_type": "code",
   "execution_count": 11,
   "id": "75315d81",
   "metadata": {},
   "outputs": [
    {
     "data": {
      "text/plain": [
       "False"
      ]
     },
     "execution_count": 11,
     "metadata": {},
     "output_type": "execute_result"
    }
   ],
   "source": [
    "a!=b and a==b"
   ]
  },
  {
   "cell_type": "code",
   "execution_count": 12,
   "id": "3c020021",
   "metadata": {},
   "outputs": [
    {
     "data": {
      "text/plain": [
       "True"
      ]
     },
     "execution_count": 12,
     "metadata": {},
     "output_type": "execute_result"
    }
   ],
   "source": [
    "a!=b and b!=a"
   ]
  },
  {
   "cell_type": "raw",
   "id": "a503071b",
   "metadata": {},
   "source": [
    "AND Truth Table\n",
    "\n",
    " False  False  - False\n",
    " False  Truth  - False\n",
    " Truth  False  - False\n",
    " Truth  Truth  - Truth \n",
    " "
   ]
  },
  {
   "cell_type": "code",
   "execution_count": 13,
   "id": "968d14da",
   "metadata": {},
   "outputs": [
    {
     "data": {
      "text/plain": [
       "True"
      ]
     },
     "execution_count": 13,
     "metadata": {},
     "output_type": "execute_result"
    }
   ],
   "source": [
    "e=35\n",
    "#below is the example of OR opeator\n",
    "(a==b) or (c==e)"
   ]
  },
  {
   "cell_type": "raw",
   "id": "8116f78f",
   "metadata": {},
   "source": [
    "OR Truth Table\n",
    "\n",
    "False False - False\n",
    "False Truth - Truth\n",
    "Truth False - Truth\n",
    "Truth Truth - Truth\n"
   ]
  },
  {
   "cell_type": "code",
   "execution_count": 14,
   "id": "2904048d",
   "metadata": {},
   "outputs": [
    {
     "data": {
      "text/plain": [
       "False"
      ]
     },
     "execution_count": 14,
     "metadata": {},
     "output_type": "execute_result"
    }
   ],
   "source": [
    "#here not negates the value for ex: a=10, b=20 when a<b passed through not it gives result as False\n",
    "not(a<b)"
   ]
  },
  {
   "cell_type": "code",
   "execution_count": 15,
   "id": "1da10882",
   "metadata": {},
   "outputs": [
    {
     "data": {
      "text/plain": [
       "True"
      ]
     },
     "execution_count": 15,
     "metadata": {},
     "output_type": "execute_result"
    }
   ],
   "source": [
    "#actual result is true\n",
    "a<b"
   ]
  },
  {
   "cell_type": "raw",
   "id": "f872cd0a",
   "metadata": {},
   "source": [
    "NOT truth table\n",
    "\n",
    "False - True\n",
    "True-  False"
   ]
  },
  {
   "cell_type": "raw",
   "id": "8a4e273b",
   "metadata": {},
   "source": [
    "4. What are the values of the following expressions?\n",
    "(5 > 4) and (3 == 5)\n",
    "not (5 > 4)\n",
    "(5 > 4) or (3 == 5)\n",
    "not ((5 > 4) or (3 == 5))\n",
    "(True and True) and (True == False)\n",
    "(not False) or (not True)\n"
   ]
  },
  {
   "cell_type": "code",
   "execution_count": 16,
   "id": "9e1c4dba",
   "metadata": {},
   "outputs": [
    {
     "data": {
      "text/plain": [
       "False"
      ]
     },
     "execution_count": 16,
     "metadata": {},
     "output_type": "execute_result"
    }
   ],
   "source": [
    "(5 > 4) and (3 == 5)\n",
    "# True and False is False\n"
   ]
  },
  {
   "cell_type": "code",
   "execution_count": 17,
   "id": "bf49486d",
   "metadata": {},
   "outputs": [
    {
     "data": {
      "text/plain": [
       "False"
      ]
     },
     "execution_count": 17,
     "metadata": {},
     "output_type": "execute_result"
    }
   ],
   "source": [
    "not (5 > 4)\n",
    "\n",
    "#Negation of True is False\n"
   ]
  },
  {
   "cell_type": "code",
   "execution_count": 18,
   "id": "f29ab511",
   "metadata": {},
   "outputs": [
    {
     "data": {
      "text/plain": [
       "True"
      ]
     },
     "execution_count": 18,
     "metadata": {},
     "output_type": "execute_result"
    }
   ],
   "source": [
    "(5 > 4) or (3 == 5)\n",
    "#True or False is True\n"
   ]
  },
  {
   "cell_type": "code",
   "execution_count": 19,
   "id": "494fc160",
   "metadata": {},
   "outputs": [
    {
     "data": {
      "text/plain": [
       "False"
      ]
     },
     "execution_count": 19,
     "metadata": {},
     "output_type": "execute_result"
    }
   ],
   "source": [
    "not ((5 > 4) or (3 == 5))\n",
    "#negation of True is False"
   ]
  },
  {
   "cell_type": "code",
   "execution_count": 20,
   "id": "91459507",
   "metadata": {},
   "outputs": [
    {
     "data": {
      "text/plain": [
       "False"
      ]
     },
     "execution_count": 20,
     "metadata": {},
     "output_type": "execute_result"
    }
   ],
   "source": [
    "(True and True) and (True == False)\n",
    "#True and False is False"
   ]
  },
  {
   "cell_type": "code",
   "execution_count": 21,
   "id": "516a9da4",
   "metadata": {},
   "outputs": [
    {
     "data": {
      "text/plain": [
       "True"
      ]
     },
     "execution_count": 21,
     "metadata": {},
     "output_type": "execute_result"
    }
   ],
   "source": [
    "(not False) or (not True)\n",
    "#True or False is True"
   ]
  },
  {
   "cell_type": "raw",
   "id": "d43a7727",
   "metadata": {},
   "source": [
    "5. What are the six comparison operators?"
   ]
  },
  {
   "cell_type": "raw",
   "id": "241469ac",
   "metadata": {},
   "source": [
    "Six comparison operators are - <, >, <=, >=, ==, !=\n",
    "1. lesser than '<'\n",
    "2. greater than '>'\n",
    "3. lesser than equal to '<='\n",
    "4. greater than equal to '>='\n",
    "5. equal to '=='\n",
    "6. not equal to '!='"
   ]
  },
  {
   "cell_type": "markdown",
   "id": "3b819df9",
   "metadata": {},
   "source": [
    "6. How do you tell the difference between the equal to and assignment operators?Describe a condition and when you would use one."
   ]
  },
  {
   "cell_type": "raw",
   "id": "eadeeea4",
   "metadata": {},
   "source": [
    "Assignment operator is denoted by '='\n",
    "where as equal to operator is denoted by '=='\n"
   ]
  },
  {
   "cell_type": "code",
   "execution_count": 22,
   "id": "64d32080",
   "metadata": {},
   "outputs": [
    {
     "name": "stdout",
     "output_type": "stream",
     "text": [
      "10\n"
     ]
    }
   ],
   "source": [
    "#for example\n",
    "a=10    # value 10 is assigned to a\n",
    "\n",
    "print(a) # if you try to print a, the result will be 10"
   ]
  },
  {
   "cell_type": "code",
   "execution_count": 23,
   "id": "6c37cc1e",
   "metadata": {},
   "outputs": [
    {
     "name": "stdout",
     "output_type": "stream",
     "text": [
      "10\n"
     ]
    }
   ],
   "source": [
    "# where as '==' is logical operator which compares if a==10 or not then it will perform some action\n",
    "\n",
    "a=10\n",
    "if a==10:\n",
    "    print(a)"
   ]
  },
  {
   "cell_type": "code",
   "execution_count": 24,
   "id": "6671491a",
   "metadata": {},
   "outputs": [],
   "source": [
    "#It wont give any result since the if caluse will terminate if the conditional check is false\n",
    "a=20\n",
    "if a==10:\n",
    "    print(a)"
   ]
  },
  {
   "cell_type": "raw",
   "id": "38be09e9",
   "metadata": {},
   "source": [
    "7. Identify the three blocks in this code:\n",
    "spam = 0\n",
    "if spam == 10:\n",
    "print('eggs')\n",
    "if spam > 5:\n",
    "print('bacon')\n",
    "else:\n",
    "print('ham')\n",
    "print('spam')\n",
    "print('spam')\n"
   ]
  },
  {
   "cell_type": "code",
   "execution_count": 25,
   "id": "cfa24573",
   "metadata": {},
   "outputs": [],
   "source": [
    "# First block of code which prints 'eggs' if the spam value is equals to 10, \n",
    "spam = 0\n",
    "if spam == 10:\n",
    "    print('eggs')\n",
    "    \n",
    "    # No result since if condition is false\n"
   ]
  },
  {
   "cell_type": "code",
   "execution_count": 26,
   "id": "02c10f27",
   "metadata": {},
   "outputs": [
    {
     "name": "stdout",
     "output_type": "stream",
     "text": [
      "ham\n"
     ]
    }
   ],
   "source": [
    "# Second block of code which returns 'bacon' if spam values is greater than 5 else returns 'ham'\n",
    "if spam > 5:\n",
    "    print('bacon')\n",
    "else:\n",
    "    print('ham')\n",
    "    "
   ]
  },
  {
   "cell_type": "code",
   "execution_count": 27,
   "id": "c16e2484",
   "metadata": {},
   "outputs": [
    {
     "name": "stdout",
     "output_type": "stream",
     "text": [
      "spam\n",
      "spam\n"
     ]
    }
   ],
   "source": [
    "# third block of code is to print 'spam'\n",
    "\n",
    "print('spam')\n",
    "print('spam')"
   ]
  },
  {
   "cell_type": "raw",
   "id": "241a3e13",
   "metadata": {},
   "source": [
    "8. Write code that prints Hello if 1 is stored in spam, prints Howdy if 2 is stored in spam, and prints Greetings! if anything else is stored in spam."
   ]
  },
  {
   "cell_type": "code",
   "execution_count": 29,
   "id": "636c38cc",
   "metadata": {},
   "outputs": [
    {
     "name": "stdout",
     "output_type": "stream",
     "text": [
      "Enter a value10\n",
      "Greetings!\n"
     ]
    }
   ],
   "source": [
    "a=int(input('Enter a value'))\n",
    "if a==1:\n",
    "    print('spam')\n",
    "elif a==2:\n",
    "    print('howdy')\n",
    "else:\n",
    "    print('Greetings!')"
   ]
  },
  {
   "cell_type": "raw",
   "id": "e98263d8",
   "metadata": {},
   "source": [
    "9.If your programme is stuck in an endless loop, what keys you’ll press?"
   ]
  },
  {
   "cell_type": "raw",
   "id": "46c13d32",
   "metadata": {},
   "source": [
    "CTRL+C is used to terminate the loop"
   ]
  },
  {
   "cell_type": "raw",
   "id": "63b0799b",
   "metadata": {},
   "source": [
    "10. How can you tell the difference between break and continue?"
   ]
  },
  {
   "cell_type": "raw",
   "id": "1143c276",
   "metadata": {},
   "source": [
    "break- stops execution and prints the result when if/while condition is true \n",
    "for example:"
   ]
  },
  {
   "cell_type": "code",
   "execution_count": 31,
   "id": "992a5834",
   "metadata": {},
   "outputs": [
    {
     "name": "stdout",
     "output_type": "stream",
     "text": [
      "Enter a value10\n",
      "even number\n",
      "Enter a value20\n",
      "even number\n",
      "Enter a value30\n",
      "even number\n",
      "Enter a value40\n",
      "even number\n",
      "Enter a value11\n",
      "odd number\n"
     ]
    }
   ],
   "source": [
    "while True:\n",
    "    a=int(input('Enter a value'))\n",
    "    if a%2 !=0:\n",
    "        print('odd number')\n",
    "        break\n",
    "    print('even number')\n",
    "    \n",
    "    #one can see the out put where the loop will continue till it gets input value an 'odd number'"
   ]
  },
  {
   "cell_type": "code",
   "execution_count": 32,
   "id": "aaf73bdf",
   "metadata": {},
   "outputs": [
    {
     "name": "stdout",
     "output_type": "stream",
     "text": [
      "0\n",
      "1\n",
      "2\n"
     ]
    }
   ],
   "source": [
    "#another example of using break \n",
    "\n",
    "for i in range(5):\n",
    "    if i==3:\n",
    "        break\n",
    "    print(i)\n",
    "    # we can observe as soon as index value becomes 3 i.e, i==3 the loop exists and prints the values before break"
   ]
  },
  {
   "cell_type": "raw",
   "id": "14ed2859",
   "metadata": {},
   "source": [
    "Continue statement is used in for loop to skip current iteration\n",
    "for example"
   ]
  },
  {
   "cell_type": "code",
   "execution_count": 33,
   "id": "6364dac1",
   "metadata": {},
   "outputs": [
    {
     "name": "stdout",
     "output_type": "stream",
     "text": [
      "0\n",
      "1\n",
      "2\n",
      "4\n"
     ]
    }
   ],
   "source": [
    "for i in range(5):\n",
    "    if i==3:\n",
    "        continue\n",
    "    print(i)\n",
    "    # continue statement skips value 3 here"
   ]
  },
  {
   "cell_type": "raw",
   "id": "8a750afb",
   "metadata": {},
   "source": [
    "11. In a for loop, what is the difference between range(10), range(0, 10), and range(0, 10, 1)?"
   ]
  },
  {
   "cell_type": "raw",
   "id": "c91cba8d",
   "metadata": {},
   "source": [
    "Normally range function takes 3 variables namely stop, (start,stop),(start,stop,step)\n",
    "Let`s see how it works with the above give range of values"
   ]
  },
  {
   "cell_type": "code",
   "execution_count": 34,
   "id": "268c6cfe",
   "metadata": {},
   "outputs": [
    {
     "name": "stdout",
     "output_type": "stream",
     "text": [
      "0\n",
      "1\n",
      "2\n",
      "3\n",
      "4\n",
      "5\n",
      "6\n",
      "7\n",
      "8\n",
      "9\n"
     ]
    }
   ],
   "source": [
    "for i in range(10):\n",
    "    print(i)\n",
    "    # range(10) will accept the values from 0-9 excluding the given range value of 10 as below"
   ]
  },
  {
   "cell_type": "code",
   "execution_count": 35,
   "id": "2e125b39",
   "metadata": {},
   "outputs": [
    {
     "name": "stdout",
     "output_type": "stream",
     "text": [
      "0\n",
      "1\n",
      "2\n",
      "3\n",
      "4\n",
      "5\n",
      "6\n",
      "7\n",
      "8\n",
      "9\n"
     ]
    }
   ],
   "source": [
    "for i in range(0,10):   # this range function almost acts like above except providing starting index number as zero \n",
    "    print(i)"
   ]
  },
  {
   "cell_type": "code",
   "execution_count": 36,
   "id": "9b9f23f6",
   "metadata": {},
   "outputs": [
    {
     "name": "stdout",
     "output_type": "stream",
     "text": [
      "0\n",
      "1\n",
      "2\n",
      "3\n",
      "4\n",
      "5\n",
      "6\n",
      "7\n",
      "8\n",
      "9\n"
     ]
    }
   ],
   "source": [
    "for i in range(0,10,1): # this also acts as prvious functions since the step value is a standard differential value i.e 1\n",
    "    print(i)"
   ]
  },
  {
   "cell_type": "raw",
   "id": "07f4b289",
   "metadata": {},
   "source": [
    "12. Write a short program that prints the numbers 1 to 10 using a for loop. Then write an equivalent program that prints the numbers 1 to 10 using a while loop."
   ]
  },
  {
   "cell_type": "code",
   "execution_count": 37,
   "id": "7bda4c3a",
   "metadata": {},
   "outputs": [
    {
     "name": "stdout",
     "output_type": "stream",
     "text": [
      "0\n",
      "1\n",
      "2\n",
      "3\n",
      "4\n",
      "5\n",
      "6\n",
      "7\n",
      "8\n",
      "9\n",
      "10\n"
     ]
    }
   ],
   "source": [
    "for i in range(11):\n",
    "    print(i)"
   ]
  },
  {
   "cell_type": "code",
   "execution_count": 38,
   "id": "f515b561",
   "metadata": {},
   "outputs": [
    {
     "name": "stdout",
     "output_type": "stream",
     "text": [
      "0\n",
      "1\n",
      "2\n",
      "3\n",
      "4\n",
      "5\n",
      "6\n",
      "7\n",
      "8\n",
      "9\n",
      "10\n"
     ]
    }
   ],
   "source": [
    "i=0\n",
    "while (i<=10):\n",
    "    print(i)\n",
    "    i+=1"
   ]
  },
  {
   "cell_type": "raw",
   "id": "ff928d94",
   "metadata": {},
   "source": [
    "13. If you had a function named bacon() inside a module named spam, how would you call it after importing spam?"
   ]
  },
  {
   "cell_type": "raw",
   "id": "30da7034",
   "metadata": {},
   "source": [
    "import spam \n",
    "spam.bacon()"
   ]
  },
  {
   "cell_type": "code",
   "execution_count": null,
   "id": "14a49948",
   "metadata": {},
   "outputs": [],
   "source": []
  }
 ],
 "metadata": {
  "kernelspec": {
   "display_name": "Python 3 (ipykernel)",
   "language": "python",
   "name": "python3"
  },
  "language_info": {
   "codemirror_mode": {
    "name": "ipython",
    "version": 3
   },
   "file_extension": ".py",
   "mimetype": "text/x-python",
   "name": "python",
   "nbconvert_exporter": "python",
   "pygments_lexer": "ipython3",
   "version": "3.9.13"
  }
 },
 "nbformat": 4,
 "nbformat_minor": 5
}
