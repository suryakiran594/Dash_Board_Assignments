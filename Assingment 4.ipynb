{
 "cells": [
  {
   "cell_type": "markdown",
   "id": "24802de3",
   "metadata": {},
   "source": [
    "1. What exactly is []?"
   ]
  },
  {
   "cell_type": "markdown",
   "id": "7e65928e",
   "metadata": {},
   "source": [
    "It represents an empty list. A list is a data structure that can hold an ordered collection of elements.They serve as a starting \n",
    "point for creating and initializing an empty list."
   ]
  },
  {
   "cell_type": "markdown",
   "id": "4bdfefce",
   "metadata": {},
   "source": [
    "2. In a list of values stored in a variable called spam, how would you assign the value 'hello' as the third value? (Assume [2, 4, 6, 8, 10] are in spam.)"
   ]
  },
  {
   "cell_type": "code",
   "execution_count": 17,
   "id": "428668aa",
   "metadata": {},
   "outputs": [],
   "source": [
    "# We can use insert function to specifically add an element to an index here is an example given for the same\n",
    "import pandas as pd\n",
    "import numpy as np\n",
    "spam=[2,4,6,8,10]\n",
    "spam.insert(2,'hello')"
   ]
  },
  {
   "cell_type": "code",
   "execution_count": 18,
   "id": "e74f8091",
   "metadata": {},
   "outputs": [
    {
     "data": {
      "text/plain": [
       "[2, 4, 'hello', 6, 8, 10]"
      ]
     },
     "execution_count": 18,
     "metadata": {},
     "output_type": "execute_result"
    }
   ],
   "source": [
    "spam"
   ]
  },
  {
   "cell_type": "markdown",
   "id": "12858f78",
   "metadata": {},
   "source": [
    "3. What is the value of spam[int(int('3' * 2) / 11)]?"
   ]
  },
  {
   "cell_type": "markdown",
   "id": "a88d0afa",
   "metadata": {},
   "source": [
    "list ['a', 'b', 'c', 'd']"
   ]
  },
  {
   "cell_type": "markdown",
   "id": "a5529826",
   "metadata": {},
   "source": [
    "Let`s break it down \n",
    "1. int('3'*2) = multiplying string '3' with 2 gives a result 33 and int(33)=33\n",
    "2. int(33/11)= int(3)\n",
    "3. list[3]= d thus the answer is d."
   ]
  },
  {
   "cell_type": "code",
   "execution_count": 22,
   "id": "8319b3e8",
   "metadata": {},
   "outputs": [
    {
     "data": {
      "text/plain": [
       "'d'"
      ]
     },
     "execution_count": 22,
     "metadata": {},
     "output_type": "execute_result"
    }
   ],
   "source": [
    "spam=['a','b','c','d']\n",
    "spam[int(int('3' * 2) / 11)]"
   ]
  },
  {
   "cell_type": "markdown",
   "id": "4995332f",
   "metadata": {},
   "source": [
    "4. What is the value of spam[-1]?"
   ]
  },
  {
   "cell_type": "markdown",
   "id": "30638c1f",
   "metadata": {},
   "source": [
    "spam[-1] will give the last element of the list as result"
   ]
  },
  {
   "cell_type": "code",
   "execution_count": 30,
   "id": "eaedaa5d",
   "metadata": {},
   "outputs": [
    {
     "data": {
      "text/plain": [
       "'d'"
      ]
     },
     "execution_count": 30,
     "metadata": {},
     "output_type": "execute_result"
    }
   ],
   "source": [
    "spam=['a','b','c','d']\n",
    "spam[-1]"
   ]
  },
  {
   "cell_type": "markdown",
   "id": "38da2990",
   "metadata": {},
   "source": [
    "5. What is the value of spam[:2]?"
   ]
  },
  {
   "cell_type": "markdown",
   "id": "d2136197",
   "metadata": {},
   "source": [
    "spam[:2] would include all elements from the beginning of the list up to, but not including, index 2."
   ]
  },
  {
   "cell_type": "code",
   "execution_count": 31,
   "id": "5c51be45",
   "metadata": {},
   "outputs": [
    {
     "data": {
      "text/plain": [
       "['a', 'b']"
      ]
     },
     "execution_count": 31,
     "metadata": {},
     "output_type": "execute_result"
    }
   ],
   "source": [
    "spam[:2]"
   ]
  },
  {
   "cell_type": "markdown",
   "id": "32b3e055",
   "metadata": {},
   "source": [
    "6. What is the value of bacon.index('cat')?"
   ]
  },
  {
   "cell_type": "markdown",
   "id": "29cdcca0",
   "metadata": {},
   "source": [
    "It gives the first occurance of the string 'cat' in the given list"
   ]
  },
  {
   "cell_type": "code",
   "execution_count": 35,
   "id": "6ff244a1",
   "metadata": {},
   "outputs": [
    {
     "data": {
      "text/plain": [
       "1"
      ]
     },
     "execution_count": 35,
     "metadata": {},
     "output_type": "execute_result"
    }
   ],
   "source": [
    "bacon=[3.14, 'cat', 11, 'cat', True]\n",
    "bacon.index('cat')"
   ]
  },
  {
   "cell_type": "markdown",
   "id": "31c67ac5",
   "metadata": {},
   "source": [
    "7. How does bacon.append(99) change the look of the list value in bacon?"
   ]
  },
  {
   "cell_type": "markdown",
   "id": "fcb28af5",
   "metadata": {},
   "source": [
    "It will append the given value 99 at the end of the list"
   ]
  },
  {
   "cell_type": "code",
   "execution_count": 36,
   "id": "0ad7fb4d",
   "metadata": {},
   "outputs": [],
   "source": [
    "bacon.append(99)"
   ]
  },
  {
   "cell_type": "code",
   "execution_count": 37,
   "id": "9ba0c82b",
   "metadata": {},
   "outputs": [
    {
     "data": {
      "text/plain": [
       "[3.14, 'cat', 11, 'cat', True, 99]"
      ]
     },
     "execution_count": 37,
     "metadata": {},
     "output_type": "execute_result"
    }
   ],
   "source": [
    "bacon"
   ]
  },
  {
   "cell_type": "markdown",
   "id": "4195fb28",
   "metadata": {},
   "source": [
    "8. How does bacon.remove('cat') change the look of the list in bacon?"
   ]
  },
  {
   "cell_type": "markdown",
   "id": "51fdd2f7",
   "metadata": {},
   "source": [
    "It removes the first instance of the string 'cat' occurance in the list"
   ]
  },
  {
   "cell_type": "code",
   "execution_count": 41,
   "id": "d53ae160",
   "metadata": {},
   "outputs": [],
   "source": [
    "bacon=[3.14, 'cat', 11, 'cat', True]\n"
   ]
  },
  {
   "cell_type": "code",
   "execution_count": 42,
   "id": "a1f87fe2",
   "metadata": {},
   "outputs": [
    {
     "data": {
      "text/plain": [
       "[3.14, 11, 'cat', True]"
      ]
     },
     "execution_count": 42,
     "metadata": {},
     "output_type": "execute_result"
    }
   ],
   "source": [
    "bacon.remove('cat')\n",
    "bacon"
   ]
  },
  {
   "cell_type": "markdown",
   "id": "13350360",
   "metadata": {},
   "source": [
    "9. What are the list concatenation and list replication operators?"
   ]
  },
  {
   "cell_type": "markdown",
   "id": "45a52a4d",
   "metadata": {},
   "source": [
    "In Python, the list concatenation operator is the plus sign (+), and the list replication operator is the asterisk (*)."
   ]
  },
  {
   "cell_type": "code",
   "execution_count": 46,
   "id": "9fe37957",
   "metadata": {},
   "outputs": [
    {
     "data": {
      "text/plain": [
       "[1, 2, 3, 4, 5, 6]"
      ]
     },
     "execution_count": 46,
     "metadata": {},
     "output_type": "execute_result"
    }
   ],
   "source": [
    "#Here is the execution\n",
    "# here two lists are added sequentially as shown in the result\n",
    "list1=[1,2,3]\n",
    "list2=[4,5,6]\n",
    "list1+list2"
   ]
  },
  {
   "cell_type": "code",
   "execution_count": 47,
   "id": "062695f4",
   "metadata": {},
   "outputs": [
    {
     "data": {
      "text/plain": [
       "[1, 2, 3, 1, 2, 3, 1, 2, 3]"
      ]
     },
     "execution_count": 47,
     "metadata": {},
     "output_type": "execute_result"
    }
   ],
   "source": [
    "#here list is replicating 3 times as shown in the result\n",
    "list1*3"
   ]
  },
  {
   "cell_type": "markdown",
   "id": "270b0f44",
   "metadata": {},
   "source": [
    "10. What is difference between the list methods append() and insert()?"
   ]
  },
  {
   "cell_type": "markdown",
   "id": "dba3521e",
   "metadata": {},
   "source": [
    "append() - it takes single argument 'value' and appends at the end of the list\n",
    "insert() - takes two arguments 1-index 2-value"
   ]
  },
  {
   "cell_type": "code",
   "execution_count": 48,
   "id": "001c7225",
   "metadata": {},
   "outputs": [],
   "source": [
    "list1.append('cat')"
   ]
  },
  {
   "cell_type": "code",
   "execution_count": 49,
   "id": "f8bad457",
   "metadata": {},
   "outputs": [
    {
     "data": {
      "text/plain": [
       "[1, 2, 3, 'cat']"
      ]
     },
     "execution_count": 49,
     "metadata": {},
     "output_type": "execute_result"
    }
   ],
   "source": [
    "list1"
   ]
  },
  {
   "cell_type": "code",
   "execution_count": 50,
   "id": "a87ab8cf",
   "metadata": {},
   "outputs": [],
   "source": [
    "list1.insert(1,'dog')"
   ]
  },
  {
   "cell_type": "code",
   "execution_count": 51,
   "id": "cf109b29",
   "metadata": {},
   "outputs": [
    {
     "data": {
      "text/plain": [
       "[1, 'dog', 2, 3, 'cat']"
      ]
     },
     "execution_count": 51,
     "metadata": {},
     "output_type": "execute_result"
    }
   ],
   "source": [
    "list1"
   ]
  },
  {
   "cell_type": "markdown",
   "id": "c876e492",
   "metadata": {},
   "source": [
    "11. What are the two methods for removing items from a list?"
   ]
  },
  {
   "cell_type": "markdown",
   "id": "c63db898",
   "metadata": {},
   "source": [
    "remove() & pop() are two methods used to remove items from the list\n",
    "\n",
    "remove()- takes one argument as value and removes it from the list\n",
    "pop()- will remove the item from the end of the list"
   ]
  },
  {
   "cell_type": "code",
   "execution_count": 52,
   "id": "f52d4768",
   "metadata": {},
   "outputs": [
    {
     "data": {
      "text/plain": [
       "6"
      ]
     },
     "execution_count": 52,
     "metadata": {},
     "output_type": "execute_result"
    }
   ],
   "source": [
    "list2.pop()"
   ]
  },
  {
   "cell_type": "code",
   "execution_count": 56,
   "id": "c90673ac",
   "metadata": {},
   "outputs": [],
   "source": [
    "list2.remove(4)"
   ]
  },
  {
   "cell_type": "code",
   "execution_count": 57,
   "id": "a3d97ff2",
   "metadata": {},
   "outputs": [
    {
     "data": {
      "text/plain": [
       "[5]"
      ]
     },
     "execution_count": 57,
     "metadata": {},
     "output_type": "execute_result"
    }
   ],
   "source": [
    "list2"
   ]
  },
  {
   "cell_type": "markdown",
   "id": "7a392089",
   "metadata": {},
   "source": [
    "12. Describe how list values and string values are identical."
   ]
  },
  {
   "cell_type": "markdown",
   "id": "30e35d77",
   "metadata": {},
   "source": [
    "Lists and Strings have identical features.\n",
    "1.Sequential Data- both are sequential datatypes\n",
    "2.Indexing- both of them will support indexing which allows accessing individual elements based on their position\n",
    "3.Slicing- both list and string support slicing\n",
    "4.Iteration- both can be used in for loop to iterate through each element.\n"
   ]
  },
  {
   "cell_type": "markdown",
   "id": "050f11b1",
   "metadata": {},
   "source": [
    "13. What's the difference between tuples and lists?"
   ]
  },
  {
   "cell_type": "markdown",
   "id": "89c5864b",
   "metadata": {},
   "source": [
    "Tuples and list are both data structures in python.\n",
    "\n",
    "1.tuples are immutable means their elements can`t be changed after creation.Once the tuple is created you can`t add,remove or \n",
    "modify elements.\n",
    "List are mutable. and can be modified.\n",
    "2.Tuples are typically used to represent a collection of related items, where as list can hold different types of elements\n",
    "3. Tuples are generally light weighted interms of memory and faster to create than list. Lists need more memory\n",
    "4. Tuples have fewers methods like count(), index() since they are immutable. on the otherhand list have several built-in \n",
    "methods like append(),insert(),remove() etc."
   ]
  },
  {
   "cell_type": "markdown",
   "id": "b5307e14",
   "metadata": {},
   "source": [
    "14. How do you type a tuple value that only contains the integer 42?"
   ]
  },
  {
   "cell_type": "code",
   "execution_count": 84,
   "id": "aac9d7cd",
   "metadata": {},
   "outputs": [],
   "source": [
    "my_tuple=(42)"
   ]
  },
  {
   "cell_type": "code",
   "execution_count": 85,
   "id": "0b6f79a2",
   "metadata": {},
   "outputs": [
    {
     "data": {
      "text/plain": [
       "int"
      ]
     },
     "execution_count": 85,
     "metadata": {},
     "output_type": "execute_result"
    }
   ],
   "source": [
    "type(my_tuple)"
   ]
  },
  {
   "cell_type": "markdown",
   "id": "e68ebe01",
   "metadata": {},
   "source": [
    "15. How do you get a list value's tuple form? How do you get a tuple value's list form?\n"
   ]
  },
  {
   "cell_type": "code",
   "execution_count": 86,
   "id": "12f6a7f0",
   "metadata": {},
   "outputs": [],
   "source": [
    "list=[1,2,3,4]\n",
    "tuple=(10,20,34,56,78)"
   ]
  },
  {
   "cell_type": "code",
   "execution_count": null,
   "id": "d34a4d84",
   "metadata": {},
   "outputs": [],
   "source": [
    "#to convert list values to tuple form we can use tuple()\n",
    "list=[11,22,33,44]\n",
    "\n",
    "tuple(list)\n"
   ]
  },
  {
   "cell_type": "code",
   "execution_count": null,
   "id": "5b3d0030",
   "metadata": {},
   "outputs": [],
   "source": [
    "my_tuple=(1,2,4,6,7)\n",
    "my_list=list(my_tuple)"
   ]
  },
  {
   "cell_type": "code",
   "execution_count": null,
   "id": "3486e30e",
   "metadata": {},
   "outputs": [],
   "source": [
    "16. Variables that \"contain\" list values are not necessarily lists themselves. Instead, what do they contain?"
   ]
  },
  {
   "cell_type": "markdown",
   "id": "cd6bdb55",
   "metadata": {},
   "source": [
    "In Python, variables are essentially labels or references to objects in memory.\n",
    "\n"
   ]
  },
  {
   "cell_type": "markdown",
   "id": "2a5615d7",
   "metadata": {},
   "source": [
    "17. How do you distinguish between copy.copy() and copy.deepcopy()?"
   ]
  },
  {
   "cell_type": "markdown",
   "id": "01b0a047",
   "metadata": {},
   "source": [
    "copy.copy() creates a shallow copy that shares references to nested objects, while copy.deepcopy() creates a deep copy with completely independent copies of both the top-level object and its nested objects."
   ]
  },
  {
   "cell_type": "code",
   "execution_count": 96,
   "id": "13fff538",
   "metadata": {},
   "outputs": [
    {
     "name": "stdout",
     "output_type": "stream",
     "text": [
      "[1, 2, [3, 4], 99]\n",
      "[1, 2, [3, 4], 5]\n",
      "[1, 2, [3, 4], 5]\n"
     ]
    }
   ],
   "source": [
    "import copy\n",
    "original_list=[1,2,[3,4],5]\n",
    "shallow_copy_list=copy.copy(original_list)\n",
    "deep_copy_list=copy.deepcopy(original_list)\n",
    "\n",
    "original_list[3]=99\n",
    "print(original_list)\n",
    "print(shallow_copy_list)\n",
    "print(deep_copy_list)"
   ]
  },
  {
   "cell_type": "code",
   "execution_count": null,
   "id": "874f5571",
   "metadata": {},
   "outputs": [],
   "source": []
  }
 ],
 "metadata": {
  "kernelspec": {
   "display_name": "Python 3 (ipykernel)",
   "language": "python",
   "name": "python3"
  },
  "language_info": {
   "codemirror_mode": {
    "name": "ipython",
    "version": 3
   },
   "file_extension": ".py",
   "mimetype": "text/x-python",
   "name": "python",
   "nbconvert_exporter": "python",
   "pygments_lexer": "ipython3",
   "version": "3.9.13"
  }
 },
 "nbformat": 4,
 "nbformat_minor": 5
}
